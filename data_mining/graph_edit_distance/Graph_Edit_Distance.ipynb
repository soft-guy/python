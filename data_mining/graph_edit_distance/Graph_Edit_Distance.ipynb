{
  "nbformat": 4,
  "nbformat_minor": 0,
  "metadata": {
    "colab": {
      "name": "Graph Edit Distance",
      "provenance": [],
      "authorship_tag": "ABX9TyP/7rC6uwct+1PRCQPzEtR/",
      "include_colab_link": true
    },
    "kernelspec": {
      "name": "python3",
      "display_name": "Python 3"
    },
    "language_info": {
      "name": "python"
    }
  },
  "cells": [
    {
      "cell_type": "markdown",
      "metadata": {
        "id": "view-in-github",
        "colab_type": "text"
      },
      "source": [
        "<a href=\"https://colab.research.google.com/github/soft-guy/python/blob/main/data_mining/graph_edit_distance/Graph_Edit_Distance.ipynb\" target=\"_parent\"><img src=\"https://colab.research.google.com/assets/colab-badge.svg\" alt=\"Open In Colab\"/></a>"
      ]
    },
    {
      "cell_type": "markdown",
      "source": [
        "Graph Edit Distance"
      ],
      "metadata": {
        "id": "JxMOGx6m8gan"
      }
    },
    {
      "cell_type": "code",
      "execution_count": 1,
      "metadata": {
        "id": "T6o-hRkLUaEF"
      },
      "outputs": [],
      "source": [
        "import networkx as nx\n",
        "import matplotlib.pyplot as plt\n",
        "import copy"
      ]
    },
    {
      "cell_type": "code",
      "source": [
        "# function for drawing a graph\n",
        "# we use as labels attributes given by keys\n",
        "def draw_graph(g, node_labels_key=None):\n",
        "  pos = nx.circular_layout(g)\n",
        "  nx.draw_networkx_nodes(g, pos, node_color=\"yellow\")\n",
        "  if node_labels_key != None:\n",
        "    nx.draw_networkx_labels(g, pos, labels=nx.get_node_attributes(g, node_labels_key))\n",
        "  nx.draw_networkx_edges(g, pos, edge_color=\"red\")\n",
        "  nx.draw_networkx_edge_labels(g, pos, font_color=\"green\" )"
      ],
      "metadata": {
        "id": "-KjER5z-UjvL"
      },
      "execution_count": 2,
      "outputs": []
    },
    {
      "cell_type": "code",
      "source": [
        "# permutations of size n without repetitions\n",
        "# we assume n <= len(list1)\n",
        "def permutations_n_wr(list1, n):\n",
        "  permutations = []\n",
        "  if(n == 0):\n",
        "    permutations.append([])\n",
        "  else:\n",
        "    for i in range(len(list1)):\n",
        "      list_copy = copy.copy(list1)\n",
        "      elem = list_copy.pop(i)\n",
        "      for permutation in permutations_n_wr(list_copy, n - 1):\n",
        "        permutations.append([elem] + permutation)\n",
        "  return permutations\n",
        "\n",
        "\n",
        "# permutations of size <= n without repetitions\n",
        "# we assume n <= len(list1)\n",
        "def permutations_up_to_n_wr(list1, n):\n",
        "\n",
        "  def local_perm(list_l, n, permutations):\n",
        "    all_permutations = permutations\n",
        "    if(n != 0):\n",
        "      for i in range(len(list_l)):\n",
        "        new_permutations = []\n",
        "        list_copy = copy.copy(list_l)\n",
        "        elem = list_copy.pop(i)\n",
        "        for perm in permutations:\n",
        "          new_permutations.append(perm + [elem])\n",
        "        all_permutations = all_permutations + local_perm(list_copy, n - 1, new_permutations)\n",
        "    return all_permutations\n",
        "\n",
        "\n",
        "  return local_perm(list1, n, [[]])\n",
        "\n",
        "\n",
        "# permutations of size n without repetitions\n",
        "# we assume n <= len(list1)\n",
        "def combinations_n_wr(list1, n):\n",
        "\n",
        "  def comb_local(list1, n):\n",
        "    combinations = []\n",
        "    if(n == 0):\n",
        "      combinations.append([])\n",
        "    else:\n",
        "      for i in range(len(list1)):\n",
        "        elem = list1[i]\n",
        "        for combination in comb_local(list1[i + 1:], n - 1):\n",
        "          combinations.append([elem] + combination)\n",
        "    return combinations\n",
        "\n",
        "\n",
        "  return {n: comb_local(list1, n)}\n",
        "\n",
        "\n",
        "# permutations of size <= n without repetitions\n",
        "# we assume n <= len(list1)\n",
        "def combinations_up_to_n_wr(list1, n):\n",
        "  commbinations_ret = {0: [[]]}\n",
        "\n",
        "  def local_comb(list_l, n, combinations):\n",
        "    if(n != 0 and len(list_l) != 0):\n",
        "      length = len(combinations[0]) + 1\n",
        "      if(commbinations_ret.get(length) == None):\n",
        "        commbinations_ret[length] = []\n",
        "      for i in range(len(list_l)):\n",
        "        new_combinations = []\n",
        "        elem = list_l[i]\n",
        "        for comb in combinations:\n",
        "          new_comb = comb + [elem]\n",
        "          new_combinations.append(new_comb)\n",
        "          commbinations_ret[length].append(new_comb)\n",
        "        local_comb(list_l[i + 1:], n - 1, new_combinations)\n",
        "\n",
        "\n",
        "  local_comb(list1, n, [[]])\n",
        "\n",
        "  return commbinations_ret"
      ],
      "metadata": {
        "id": "W8a8XdYbVBTO"
      },
      "execution_count": 3,
      "outputs": []
    },
    {
      "cell_type": "code",
      "source": [
        "# graph edit distance function\n",
        "def graph_edit_distance(g1, g2,\\\n",
        "                        node_subst_cost=10,\\\n",
        "                        node_del_cost=2,\\\n",
        "                        node_ins_cost=3,\\\n",
        "                        edge_subst_cost=4,\\\n",
        "                        edge_del_cost=5,\\\n",
        "                        edge_ins_cost=6):\n",
        "  \n",
        "  g1_nodes = list(g1.nodes)\n",
        "  g2_nodes = list(g2.nodes)\n",
        "\n",
        "  # all paths that make sence\n",
        "  # and may correspnd to the graph edit distance are given by\n",
        "  # bijections between subsets of nodes of each of the graphs\n",
        "  # moreover, if node_subst_cost <= node_ins_cost + node_del_cost\n",
        "  # it suffices to consider only bijections of maximum size\n",
        "  # given by the graph with smaller number of nodes\n",
        "\n",
        "  # to iterate on bijections we will use permutations for the first graph\n",
        "  # and combinations for the second\n",
        "  min_len = min(len(g1_nodes), len(g2_nodes))\n",
        "\n",
        "  if node_subst_cost > node_del_cost + node_ins_cost:\n",
        "    graph1_subsets = permutations_up_to_n_wr(g1_nodes, min_len)\n",
        "    graph2_subsets = combinations_up_to_n_wr(g2_nodes, min_len)\n",
        "  else:\n",
        "    graph1_subsets = permutations_n_wr(g1_nodes, min_len)\n",
        "    graph2_subsets = combinations_n_wr(g2_nodes, min_len)\n",
        "\n",
        "  min_cost = float(\"inf\")\n",
        "\n",
        "  for nodes1 in graph1_subsets:\n",
        "    for nodes2 in graph2_subsets[len(nodes1)]:\n",
        "      cost = 0\n",
        "      # nodes we are to delete\n",
        "      nodes_to_delete = list(set(g1_nodes) - set(nodes1))\n",
        "\n",
        "      # first we need to delete edges for them\n",
        "      for i in range(len(nodes_to_delete)):\n",
        "        # first between nodes we delete and nodes we keep\n",
        "        for node in nodes1:\n",
        "          if(g1.has_edge(nodes_to_delete[i], node)):\n",
        "            cost += edge_del_cost\n",
        "        # and now between nodes we delete\n",
        "        for j in range(i + 1, len(nodes_to_delete)):\n",
        "          if(g1.has_edge(nodes_to_delete[i], nodes_to_delete[j])):\n",
        "            cost += edge_del_cost\n",
        "        \n",
        "      # now we can delete those nodes\n",
        "      cost += node_del_cost * len(nodes_to_delete)\n",
        "\n",
        "      # nodes we are to add\n",
        "      nodes_to_add = list(set(g2_nodes) - set(nodes2))\n",
        "      cost += node_ins_cost * len(nodes_to_add)\n",
        "\n",
        "      # now we add edges for nodes we inserted\n",
        "      for i in range(len(nodes_to_add)):\n",
        "        # first between nodes we add and nodes we keep\n",
        "        for node in nodes2:\n",
        "          if(g2.has_edge(nodes_to_add[i], node)):\n",
        "            cost += edge_ins_cost\n",
        "        # and now between nodes we add\n",
        "        for j in range(i + 1, len(nodes_to_add)):\n",
        "          if(g2.has_edge(nodes_to_add[i], nodes_to_add[j])):\n",
        "            cost += edge_ins_cost\n",
        "      \n",
        "      # substitute nodes if the corresponding attributes are different\n",
        "      for i in range(len(nodes1)):\n",
        "        if g1.nodes[nodes1[i]] != g2.nodes[nodes2[i]]:\n",
        "          cost += node_subst_cost\n",
        "\n",
        "      # update edges between the nodes we keep\n",
        "      for i in range(len(nodes1) - 1):\n",
        "        for j in range(i + 1, len(nodes1)):\n",
        "          # first we add edges if there are edges in the target graph \n",
        "          # but there is no edge in the source graph\n",
        "          # for corresponding pairs of edges\n",
        "          if(g2.has_edge(nodes2[i], nodes2[j]) and (not g1.has_edge(nodes1[i], nodes1[j]))):\n",
        "            cost += edge_ins_cost \n",
        "          # if there is an edge in the source but not in the target\n",
        "          if((not g2.has_edge(nodes2[i], nodes2[j])) and g1.has_edge(nodes1[i], nodes1[j])):\n",
        "            cost += edge_del_cost\n",
        "          # if there are edges in both but labels are different\n",
        "          if(g2.has_edge(nodes2[i], nodes2[j]) and g1.has_edge(nodes1[i], nodes1[j])\\\n",
        "            and g2[nodes2[i]][nodes2[j]] != g1[nodes1[i]][nodes1[j]]):\n",
        "            cost += min(edge_subst_cost, edge_del_cost + edge_ins_cost)\n",
        "\n",
        "      # update min_cost      \n",
        "      if(cost < min_cost):\n",
        "        min_cost = cost\n",
        "\n",
        "  return min_cost"
      ],
      "metadata": {
        "id": "qQ2Gh3Y0Is2_"
      },
      "execution_count": 4,
      "outputs": []
    },
    {
      "cell_type": "code",
      "source": [
        "# two graphs g1 and g2\n",
        "# we use key \"label\" for all the labels both for nodes and edges\n",
        "g1 = nx.Graph()\n",
        "g1.add_nodes_from([\n",
        "  (1, {\"label\": \"1\"}),\n",
        "  (2, {\"label\": \"7\"}),\n",
        "  (3, {\"label\": \"3\"}),\n",
        "])\n",
        "g1.add_edges_from([\n",
        "  (1, 2, {\"label\": \"1-2\"}),\n",
        "  (2, 3, {\"label\": \"2-3\"}),\n",
        "])\n",
        "g2 = copy.deepcopy(g1)\n",
        "g2.add_nodes_from([\n",
        "  (4, {\"label\": \"4\"}),\n",
        "])\n",
        "g2.add_edges_from([\n",
        "  (2, 4, {\"label\": \"2-4\"}),\n",
        "  (3, 4, {\"label\": \"3-4\"}),  \n",
        "])\n",
        "g1.add_node(4, label=\"10\")\n",
        "g1.add_node(5, label=\"9\")\n",
        "g1.add_edge(4, 5, label=\"9-10\")\n",
        "g1[1][2][\"label\"] = 10\n",
        "\n",
        "\n",
        "# draw graphs\n",
        "print(\"g_1 =\")\n",
        "draw_graph(g1, \"label\")\n",
        "plt.show()\n",
        "print(\"-----------------------------------------------------------------------\")\n",
        "print(\"g_2 =\")\n",
        "plt.clf()\n",
        "draw_graph(g2, \"label\")\n",
        "plt.show()\n",
        "\n",
        "\n",
        "# compare my functon and networkx.graph_edit_distance\n",
        "print(\"Graph edit distance between g1 and g2 according to my function\",\\\n",
        "      \"'graph_edit_distance' is equal to\", graph_edit_distance(g1, g2))\n",
        "print(\"Graph edit distance between g1 and g2 according to networkx is equal to\",\\\n",
        "      nx.graph_edit_distance(g1, g2,\\\n",
        "                             node_subst_cost=lambda x, y: 10 if x != y else 0,\\\n",
        "                             node_del_cost=lambda x: 2,\\\n",
        "                             node_ins_cost=lambda x: 3,\\\n",
        "                             edge_subst_cost=lambda x, y: 4 if x != y else 0,\\\n",
        "                             edge_del_cost=lambda x: 5,\\\n",
        "                             edge_ins_cost=lambda x: 6))\n",
        "print(\"Graph edit distance between g2 and g1 according to my function\",\\\n",
        "      \"'graph_edit_distance' is equal to\", graph_edit_distance(g2, g1))\n",
        "print(\"Graph edit distance between g1 and g2 according to networkx is equal to\",\\\n",
        "      nx.graph_edit_distance(g2, g1,\\\n",
        "                             node_subst_cost=lambda x, y: 10 if x != y else 0,\\\n",
        "                             node_del_cost=lambda x: 2,\\\n",
        "                             node_ins_cost=lambda x: 3,\\\n",
        "                             edge_subst_cost=lambda x, y: 4 if x != y else 0,\\\n",
        "                             edge_del_cost=lambda x: 5,\\\n",
        "                             edge_ins_cost=lambda x: 6))"
      ],
      "metadata": {
        "colab": {
          "base_uri": "https://localhost:8080/",
          "height": 601
        },
        "id": "hP_G40omITo7",
        "outputId": "e6ff4e12-3282-44fe-8ba0-91ebfca94f6d"
      },
      "execution_count": 5,
      "outputs": [
        {
          "output_type": "stream",
          "name": "stdout",
          "text": [
            "g_1 =\n"
          ]
        },
        {
          "output_type": "display_data",
          "data": {
            "image/png": "[encoded data removed]",
            "text/plain": [
              "<Figure size 432x288 with 1 Axes>"
            ]
          },
          "metadata": {}
        },
        {
          "output_type": "stream",
          "name": "stdout",
          "text": [
            "-----------------------------------------------------------------------\n",
            "g_2 =\n"
          ]
        },
        {
          "output_type": "display_data",
          "data": {
            "image/png": "[encoded data removed]",
            "text/plain": [
              "<Figure size 432x288 with 1 Axes>"
            ]
          },
          "metadata": {}
        },
        {
          "output_type": "stream",
          "name": "stdout",
          "text": [
            "Graph edit distance between g1 and g2 according to my function 'graph_edit_distance' is equal to 28\n",
            "Graph edit distance between g1 and g2 according to networkx is equal to 28.0\n",
            "Graph edit distance between g2 and g1 according to my function 'graph_edit_distance' is equal to 28\n",
            "Graph edit distance between g1 and g2 according to networkx is equal to 28.0\n"
          ]
        }
      ]
    }
  ]
}