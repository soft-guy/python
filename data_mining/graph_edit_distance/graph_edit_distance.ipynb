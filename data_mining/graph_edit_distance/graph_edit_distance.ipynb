{
  "nbformat": 4,
  "nbformat_minor": 0,
  "metadata": {
    "colab": {
      "name": "Graph Edit Distance",
      "provenance": [],
      "authorship_tag": "ABX9TyPIGsM/2YPVsUX+PcFvtprM",
      "include_colab_link": true
    },
    "kernelspec": {
      "name": "python3",
      "display_name": "Python 3"
    },
    "language_info": {
      "name": "python"
    }
  },
  "cells": [
    {
      "cell_type": "markdown",
      "metadata": {
        "id": "view-in-github",
        "colab_type": "text"
      },
      "source": [
        "<a href=\"https://colab.research.google.com/github/soft-guy/python/blob/main/data_mining/graph_edit_distance/graph_edit_distance.ipynb\" target=\"_parent\"><img src=\"https://colab.research.google.com/assets/colab-badge.svg\" alt=\"Open In Colab\"/></a>"
      ]
    },
    {
      "cell_type": "markdown",
      "source": [
        "Graph Edit Distance"
      ],
      "metadata": {
        "id": "JxMOGx6m8gan"
      }
    },
    {
      "cell_type": "code",
      "execution_count": 1,
      "metadata": {
        "id": "T6o-hRkLUaEF"
      },
      "outputs": [],
      "source": [
        "import networkx as nx\n",
        "import matplotlib.pyplot as plt\n",
        "import copy"
      ]
    },
    {
      "cell_type": "code",
      "source": [
        "# function for drawing a graph\n",
        "# we use as labels attributes given by keys\n",
        "def draw_graph(g):\n",
        "  pos = nx.circular_layout(g)\n",
        "  nx.draw_networkx_nodes(g, pos, node_color=\"yellow\")\n",
        "  nx.draw_networkx_labels(g, pos)\n",
        "  nx.draw_networkx_edges(g, pos, edge_color=\"red\")\n",
        "  nx.draw_networkx_edge_labels(g, pos, font_color=\"green\" )"
      ],
      "metadata": {
        "id": "-KjER5z-UjvL"
      },
      "execution_count": 2,
      "outputs": []
    },
    {
      "cell_type": "code",
      "source": [
        "# permutations of size n without repetitions\n",
        "# we assume n <= len(list1)\n",
        "def permutations_n_wr(list1, n):\n",
        "  permutations = []\n",
        "  if(n == 0):\n",
        "    permutations.append([])\n",
        "  else:\n",
        "    for i in range(len(list1)):\n",
        "      list_copy = copy.copy(list1)\n",
        "      elem = list_copy.pop(i)\n",
        "      for permutation in permutations_n_wr(list_copy, n - 1):\n",
        "        permutations.append([elem] + permutation)\n",
        "  return permutations"
      ],
      "metadata": {
        "id": "W8a8XdYbVBTO"
      },
      "execution_count": 3,
      "outputs": []
    },
    {
      "cell_type": "code",
      "source": [
        "# graph edit distance function\n",
        "def graph_edit_distance(g1, g2,\\\n",
        "                        node_ins_cost = 1.2,\\\n",
        "                        node_subst_cost = 1,\\\n",
        "                        node_del_cost = 1.1,\\\n",
        "                        edge_ins_cost = 1.1,\\\n",
        "                        edge_subst_cost = 1,\\\n",
        "                        edge_del_cost = 1.1):\n",
        "  \n",
        "  g1_nodes = list(g1.nodes)\n",
        "  g2_nodes = list(g2.nodes)\n",
        "\n",
        "  # find correspondence between nodes of graphs\n",
        "  # we delete each node from g1 that doesn't have a pair\n",
        "  # we add a node for each node from g2 that doesn't have a pair\n",
        "  # thus if |V(g1)| > |V(g2)| we delete nodes\n",
        "  # elif |V(g2)| > |V(g1)| we add nodes\n",
        "  # we indicate that via 'mode' variable\n",
        "  if(len(g1_nodes) >= len(g2_nodes)):\n",
        "    permutations1 = permutations_n_wr(g1_nodes, len(g1_nodes))\n",
        "    mode = 1\n",
        "  else:\n",
        "    mode = 2\n",
        "    permutations1 = permutations_n_wr (g2_nodes, len(g2_nodes))\n",
        "\n",
        "  min_cost = float(\"inf\")\n",
        "  if(mode == 1):\n",
        "    for perm in permutations1:\n",
        "      cost = 0\n",
        "      for i in range (0, len(g2_nodes)):\n",
        "        # if the corresponding nodes have different labels\n",
        "        if(g1.nodes[perm[i]] != g2.nodes[g2_nodes[i]]):\n",
        "          cost += node_subst_cost\n",
        "        # delete edges for nodes we are going to delete\n",
        "        # first the ones between nodes we keep and nodes we delete\n",
        "        for j in range(len(g2_nodes), len(g1_nodes)):\n",
        "          if(g1.has_edge(perm[i], perm[j])):\n",
        "            cost += edge_del_cost\n",
        "      # and now the edges between nodes we delete\n",
        "      # note that we count those edges only once\n",
        "      for k in range(len(g2_nodes), len(g1_nodes) - 1):\n",
        "        for l in range(k + 1, len(g1_nodes)):\n",
        "          if(g1.has_edge(perm[k], perm[l])):\n",
        "            cost += edge_del_cost\n",
        "      # now we can delete nodes\n",
        "      cost += (len(g1_nodes) - len(g2_nodes)) * node_del_cost\n",
        "      # now we update edges between the remaining nodes\n",
        "      for i in range(len(g2_nodes) - 1):\n",
        "        for j in range(i + 1, len(g2_nodes)):\n",
        "          # first we add edges if there are edges in the target graph \n",
        "          # but there is no edge in the source graph\n",
        "          # for corresponding pairs of edges\n",
        "          if(g2.has_edge(g2_nodes[i], g2_nodes[j]) and (not g1.has_edge(perm[i], perm[j]))):\n",
        "            cost += edge_ins_cost \n",
        "          # if there is an edge in the source but not in the target\n",
        "          if((not g2.has_edge(g2_nodes[i], g2_nodes[j])) and g1.has_edge(perm[i], perm[j])):\n",
        "            cost += edge_del_cost\n",
        "          # if there are edges in both but labels are different\n",
        "          if(g2.has_edge(g2_nodes[i], g2_nodes[j]) and g1.has_edge(perm[i], perm[j])\\\n",
        "            and g2[g2_nodes[i]][g2_nodes[j]] != g1[perm[i]][perm[j]]):\n",
        "            cost += edge_subst_cost\n",
        "      \n",
        "      if(cost < min_cost):\n",
        "        min_cost = cost\n",
        "\n",
        "  elif(mode == 2):\n",
        "    for perm in permutations1:\n",
        "      cost = 0\n",
        "      # add nodes\n",
        "      cost += (len(g2_nodes) - len(g1_nodes)) * node_ins_cost\n",
        "      for i in range(0, len(g1_nodes)):\n",
        "        # if the corresponding nodes have different labels\n",
        "        if(g2.nodes[perm[i]][\"label\"] != g1.nodes[g1_nodes[i]][\"label\"]):\n",
        "          cost += node_subst_cost\n",
        "        # add all required edges between the initial nodes and the nodes we added\n",
        "        for j in range(len(g1_nodes), len(g2_nodes)):\n",
        "          if(g2.has_edge(perm[i], perm[j])):\n",
        "            cost += edge_ins_cost\n",
        "      # add edges between new nodes\n",
        "      for k in range(len(g1_nodes), len(g2_nodes) - 1):\n",
        "        for l in range(k + 1, len(g2_nodes)):\n",
        "          if(g2.has_edge(perm[k], perm[l])):\n",
        "            cost += edge_ins_cost\n",
        "      # now we update edges between the initial nodes\n",
        "      for i in range(len(g1_nodes) - 1):\n",
        "        for j in range(i + 1, len(g1_nodes)):\n",
        "          # first we add edges if there are edges in the target graph \n",
        "          # but there is no edge in the source graph\n",
        "          # for corresponding pairs of edges\n",
        "          if(g2.has_edge(perm[i], perm[j]) and (not g1.has_edge(g1_nodes[i], g1_nodes[j]))):\n",
        "            cost += edge_ins_cost \n",
        "          # if there is an edge in the source but not in the target\n",
        "          if((not g2.has_edge(perm[i], perm[j])) and g1.has_edge(g1_nodes[i], g1_nodes[j])):\n",
        "            cost += edge_del_cost\n",
        "          # if there are edges in both but labels are different\n",
        "          if(g2.has_edge(perm[i], perm[j]) and g1.has_edge(g1_nodes[i], g1_nodes[j])\\\n",
        "            and g2[perm[i]][perm[j]] != g1[g1_nodes[i]][g1_nodes[j]]):\n",
        "            cost += edge_subst_cost\n",
        "      \n",
        "      if(cost < min_cost):\n",
        "        min_cost = cost\n",
        "\n",
        "  return min_cost"
      ],
      "metadata": {
        "id": "qQ2Gh3Y0Is2_"
      },
      "execution_count": 4,
      "outputs": []
    },
    {
      "cell_type": "code",
      "source": [
        "# two graphs g1 and g2\n",
        "# we use key \"label\" for all the labels both for nodes and edges\n",
        "g1 = nx.Graph()\n",
        "g1.add_nodes_from([\n",
        "  (1, {\"label\": \"1\"}),\n",
        "  (2, {\"label\": \"7\"}),\n",
        "  (3, {\"label\": \"3\"}),\n",
        "])\n",
        "g1.add_edges_from([\n",
        "  (1, 2, {\"label\": \"1-2\"}),\n",
        "  (2, 3, {\"label\": \"2-3\"}),\n",
        "])\n",
        "g2 = copy.deepcopy(g1)\n",
        "g2.add_nodes_from([\n",
        "  (4, {\"label\": \"4\"}),\n",
        "])\n",
        "g2.add_edges_from([\n",
        "  (2, 4, {\"label\": \"2-4\"}),\n",
        "  (3, 4, {\"label\": \"3-4\"}),  \n",
        "])\n",
        "g1.add_node(4, label=\"10\")\n",
        "g1.add_node(5, label=\"9\")\n",
        "g1.add_edge(4, 5, label=\"9-10\")\n",
        "\n",
        "print(\"g_1 =\")\n",
        "draw_graph(g1)\n",
        "plt.show()\n",
        "print(\"-----------------------------------------------------------------------\")\n",
        "print(\"g_2 =\")\n",
        "plt.clf()\n",
        "draw_graph(g2)\n",
        "plt.show()\n",
        "\n",
        "\n",
        "# compare my functon and networkx.graph_edit_distance\n",
        "print(\"Graph edit distance between g1 and g2 according to my function\",\\\n",
        "      \"'graph_edit_distance' is equal to\", graph_edit_distance(g1, g2))\n",
        "print(\"Graph edit distance between g1 and g2 according to networkx is equal to\",\\\n",
        "      nx.graph_edit_distance(g1, g2,\\\n",
        "      node_subst_cost=lambda x, y: 1 if x != y else 0,\\\n",
        "      node_del_cost=lambda x: 1.1,\\\n",
        "      node_ins_cost=lambda x: 1.2,\\\n",
        "      edge_subst_cost=lambda x, y: 1 if x != y else 0,\\\n",
        "      edge_del_cost=lambda x: 1.1,\\\n",
        "      edge_ins_cost=lambda x: 1.1))\n",
        "print(\"Graph edit distance between g2 and g1 according to my function\",\\\n",
        "      \"'graph_edit_distance' is equal to\", graph_edit_distance(g2, g1))\n",
        "print(\"Graph edit distance between g1 and g2 according to networkx is equal to\",\\\n",
        "      nx.graph_edit_distance(g2, g1,\\\n",
        "      node_subst_cost=lambda x, y: 1 if x != y else 0,\\\n",
        "      node_del_cost=lambda x: 1.1,\\\n",
        "      node_ins_cost=lambda x: 1.2,\\\n",
        "      edge_subst_cost=lambda x, y: 1 if x != y else 0,\\\n",
        "      edge_del_cost=lambda x: 1.1,\\\n",
        "      edge_ins_cost=lambda x: 1.1))"
      ],
      "metadata": {
        "colab": {
          "base_uri": "https://localhost:8080/",
          "height": 601
        },
        "id": "hP_G40omITo7",
        "outputId": "fef5a060-8022-4080-d7d2-90242038966b"
      },
      "execution_count": 5,
      "outputs": [
        {
          "output_type": "stream",
          "name": "stdout",
          "text": [
            "g_1 =\n"
          ]
        },
        {
          "output_type": "display_data",
          "data": {
            "image/png": "[encoded data removed]",
            "text/plain": [
              "<Figure size 432x288 with 1 Axes>"
            ]
          },
          "metadata": {}
        },
        {
          "output_type": "stream",
          "name": "stdout",
          "text": [
            "-----------------------------------------------------------------------\n",
            "g_2 =\n"
          ]
        },
        {
          "output_type": "display_data",
          "data": {
            "image/png": "[encoded data removed]",
            "text/plain": [
              "<Figure size 432x288 with 1 Axes>"
            ]
          },
          "metadata": {}
        },
        {
          "output_type": "stream",
          "name": "stdout",
          "text": [
            "Graph edit distance between g1 and g2 according to my function 'graph_edit_distance' is equal to 5.4\n",
            "Graph edit distance between g1 and g2 according to networkx is equal to 5.4\n",
            "Graph edit distance between g2 and g1 according to my function 'graph_edit_distance' is equal to 5.5\n",
            "Graph edit distance between g1 and g2 according to networkx is equal to 5.5\n"
          ]
        }
      ]
    }
  ]
}